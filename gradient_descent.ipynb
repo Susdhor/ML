{
 "cells": [
  {
   "cell_type": "markdown",
   "metadata": {},
   "source": [
    "  # Gradient descent is an algorithm that finds best fit line for given training data set!m"
   ]
  },
  {
   "cell_type": "code",
   "execution_count": 1,
   "metadata": {},
   "outputs": [
    {
     "name": "stdout",
     "output_type": "stream",
     "text": [
      "m 0.062 , b 0.018000000000000002,cost 0.0, iteration 0\n",
      "m 0.122528 , b 0.035592000000000006,cost 0.049304000000000014, iteration 1\n",
      "m 0.181618832 , b 0.052785648000000004,cost 0.19257710854399998, iteration 2\n",
      "m 0.239306503808 , b 0.069590363712,cost 0.42314693255900515, iteration 3\n",
      "m 0.29562421854195203 , b 0.086015343961728,cost 0.734707008966335, iteration 4\n",
      "m 0.35060439367025875 , b 0.10206956796255283,cost 1.1212984169186107, iteration 5\n",
      "m 0.40427867960173774 , b 0.11776180246460617,cost 1.5772922801000264, iteration 6\n",
      "m 0.4566779778357119 , b 0.13310060678206653,cost 2.097373116752953, iteration 7\n",
      "m 0.5078324586826338 , b 0.14809433770148814,cost 2.676522997090661, iteration 8\n",
      "m 0.5577715785654069 , b 0.16275115427398937,cost 3.310006469658919, iteration 9\n"
     ]
    }
   ],
   "source": [
    "import numpy as np\n",
    "\n",
    "def gradient_descent(x,y):\n",
    "    m_curr = b_curr = 0\n",
    "    iterations = 10\n",
    "    n = len(x)\n",
    "    learning_rate = 0.001\n",
    "    \n",
    "    for i in range(iterations):\n",
    "        y_predicted = m_curr * x + b_curr\n",
    "        cost = (1/n) * sum([val **2 for val in (y_predicted)])\n",
    "        md = -(2/n) * sum(x*(y - y_predicted))\n",
    "        bd = -(2/n) * sum(y-y_predicted)\n",
    "        m_curr = m_curr -learning_rate * md\n",
    "        b_curr = b_curr - learning_rate * bd\n",
    "        print(\"m {} , b {},cost {}, iteration {}\".format(m_curr,b_curr,cost,i))\n",
    "        \n",
    "\n",
    "x = np.array([1,2,3,4,5])\n",
    "y = np.array([5,7,9,11,13])\n",
    "\n",
    "gradient_descent(x,y)\n",
    "    "
   ]
  },
  {
   "cell_type": "code",
   "execution_count": null,
   "metadata": {},
   "outputs": [],
   "source": []
  }
 ],
 "metadata": {
  "kernelspec": {
   "display_name": "Python 3.9.7 ('env1')",
   "language": "python",
   "name": "python3"
  },
  "language_info": {
   "codemirror_mode": {
    "name": "ipython",
    "version": 3
   },
   "file_extension": ".py",
   "mimetype": "text/x-python",
   "name": "python",
   "nbconvert_exporter": "python",
   "pygments_lexer": "ipython3",
   "version": "3.9.7"
  },
  "orig_nbformat": 4,
  "vscode": {
   "interpreter": {
    "hash": "c3d96f19de8deff2e8a411b6ea7695e5e47e0ec22bf7ec6e2f19887ff3b8bb9c"
   }
  }
 },
 "nbformat": 4,
 "nbformat_minor": 2
}
